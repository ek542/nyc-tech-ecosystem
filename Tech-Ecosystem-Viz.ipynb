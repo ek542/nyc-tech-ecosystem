{
 "cells": [
  {
   "cell_type": "code",
   "execution_count": 1,
   "metadata": {},
   "outputs": [
    {
     "name": "stdout",
     "output_type": "stream",
     "text": [
      "Requirement already satisfied: pyairtable in /opt/anaconda3/lib/python3.8/site-packages (1.0.0.post1)\n",
      "Requirement already satisfied: requests>=2 in /opt/anaconda3/lib/python3.8/site-packages (from pyairtable) (2.25.1)\n",
      "Requirement already satisfied: chardet<5,>=3.0.2 in /opt/anaconda3/lib/python3.8/site-packages (from requests>=2->pyairtable) (4.0.0)\n",
      "Requirement already satisfied: certifi>=2017.4.17 in /opt/anaconda3/lib/python3.8/site-packages (from requests>=2->pyairtable) (2020.12.5)\n",
      "Requirement already satisfied: urllib3<1.27,>=1.21.1 in /opt/anaconda3/lib/python3.8/site-packages (from requests>=2->pyairtable) (1.26.4)\n",
      "Requirement already satisfied: idna<3,>=2.5 in /opt/anaconda3/lib/python3.8/site-packages (from requests>=2->pyairtable) (2.10)\n"
     ]
    }
   ],
   "source": [
    "!pip install pyairtable"
   ]
  },
  {
   "cell_type": "code",
   "execution_count": 2,
   "metadata": {},
   "outputs": [],
   "source": [
    "import os\n",
    "import requests\n",
    "import pandas as pd\n",
    "from pyairtable import Table\n",
    "import geopandas as gpd\n",
    "import matplotlib.pyplot as plt\n",
    "from shapely.geometry import Point, Polygon\n",
    "import math\n",
    "import seaborn as sns"
   ]
  },
  {
   "cell_type": "code",
   "execution_count": 10,
   "metadata": {},
   "outputs": [],
   "source": [
    "# uncomment this and add key here ''\n",
    "api_key = 'keyfr6BmiKOdAURea'"
   ]
  },
  {
   "cell_type": "code",
   "execution_count": 11,
   "metadata": {},
   "outputs": [],
   "source": [
    "base_id = \"apptUkOtU3W8HxbQQ\"\n",
    "table_name = \"Organization List\""
   ]
  },
  {
   "cell_type": "code",
   "execution_count": 12,
   "metadata": {},
   "outputs": [],
   "source": [
    "table = Table(api_key, base_id, table_name)"
   ]
  },
  {
   "cell_type": "code",
   "execution_count": 13,
   "metadata": {},
   "outputs": [
    {
     "data": {
      "text/plain": [
       "<Table base_id=apptUkOtU3W8HxbQQ table_name=Organization List>"
      ]
     },
     "execution_count": 13,
     "metadata": {},
     "output_type": "execute_result"
    }
   ],
   "source": [
    "table"
   ]
  },
  {
   "cell_type": "code",
   "execution_count": 14,
   "metadata": {},
   "outputs": [
    {
     "data": {
      "text/plain": [
       "1214"
      ]
     },
     "execution_count": 14,
     "metadata": {},
     "output_type": "execute_result"
    }
   ],
   "source": [
    "all_data = table.all()\n",
    "len(all_data)"
   ]
  },
  {
   "cell_type": "code",
   "execution_count": 15,
   "metadata": {},
   "outputs": [
    {
     "data": {
      "text/plain": [
       "{'id': 'rec00MDWnik2I0nA8',\n",
       " 'fields': {'Web': 'https://softsmile.com/',\n",
       "  'Original Source': 'TechNYC',\n",
       "  'Owner': {'id': 'usr9BPdDIhuQuzTkj',\n",
       "   'email': 'atownsend@cornell.edu',\n",
       "   'name': 'Anthony Townsend'},\n",
       "  'Urban Tech Screening': 'Failed',\n",
       "  'Sniff Test Notes': 'dental software\\n',\n",
       "  'Company': 'SoftSmile'},\n",
       " 'createdTime': '2022-01-05T20:22:37.000Z'}"
      ]
     },
     "execution_count": 15,
     "metadata": {},
     "output_type": "execute_result"
    }
   ],
   "source": [
    "all_data[0]"
   ]
  },
  {
   "cell_type": "code",
   "execution_count": 16,
   "metadata": {},
   "outputs": [
    {
     "data": {
      "text/html": [
       "<div>\n",
       "<style scoped>\n",
       "    .dataframe tbody tr th:only-of-type {\n",
       "        vertical-align: middle;\n",
       "    }\n",
       "\n",
       "    .dataframe tbody tr th {\n",
       "        vertical-align: top;\n",
       "    }\n",
       "\n",
       "    .dataframe thead th {\n",
       "        text-align: right;\n",
       "    }\n",
       "</style>\n",
       "<table border=\"1\" class=\"dataframe\">\n",
       "  <thead>\n",
       "    <tr style=\"text-align: right;\">\n",
       "      <th></th>\n",
       "      <th>id</th>\n",
       "      <th>createdTime</th>\n",
       "      <th>fields_Web</th>\n",
       "      <th>fields_Original Source</th>\n",
       "      <th>fields_Owner_id</th>\n",
       "      <th>fields_Owner_email</th>\n",
       "      <th>fields_Owner_name</th>\n",
       "      <th>fields_Urban Tech Screening</th>\n",
       "      <th>fields_Sniff Test Notes</th>\n",
       "      <th>fields_Company</th>\n",
       "      <th>...</th>\n",
       "      <th>fields_Contact Name</th>\n",
       "      <th>fields_Position</th>\n",
       "      <th>fields_Survey Response</th>\n",
       "      <th>fields_Year Acquired or Dissolved</th>\n",
       "      <th>fields_Valuation at Acquisition</th>\n",
       "      <th>fields_Revenue/Budget</th>\n",
       "      <th>fields_Form</th>\n",
       "      <th>fields_Keywords</th>\n",
       "      <th>fields_Pre-Publish Review</th>\n",
       "      <th>fields_Social Media</th>\n",
       "    </tr>\n",
       "  </thead>\n",
       "  <tbody>\n",
       "    <tr>\n",
       "      <th>0</th>\n",
       "      <td>rec00MDWnik2I0nA8</td>\n",
       "      <td>2022-01-05T20:22:37.000Z</td>\n",
       "      <td>https://softsmile.com/</td>\n",
       "      <td>TechNYC</td>\n",
       "      <td>usr9BPdDIhuQuzTkj</td>\n",
       "      <td>atownsend@cornell.edu</td>\n",
       "      <td>Anthony Townsend</td>\n",
       "      <td>Failed</td>\n",
       "      <td>dental software\\n</td>\n",
       "      <td>SoftSmile</td>\n",
       "      <td>...</td>\n",
       "      <td>NaN</td>\n",
       "      <td>NaN</td>\n",
       "      <td>NaN</td>\n",
       "      <td>NaN</td>\n",
       "      <td>NaN</td>\n",
       "      <td>NaN</td>\n",
       "      <td>NaN</td>\n",
       "      <td>NaN</td>\n",
       "      <td>NaN</td>\n",
       "      <td>NaN</td>\n",
       "    </tr>\n",
       "    <tr>\n",
       "      <th>1</th>\n",
       "      <td>rec019MVAabtvqZ29</td>\n",
       "      <td>2022-01-05T20:22:37.000Z</td>\n",
       "      <td>https://www.loop.ai/</td>\n",
       "      <td>TechNYC</td>\n",
       "      <td>usr9BPdDIhuQuzTkj</td>\n",
       "      <td>atownsend@cornell.edu</td>\n",
       "      <td>Anthony Townsend</td>\n",
       "      <td>Failed</td>\n",
       "      <td>looks like AI consultants\\n</td>\n",
       "      <td>Loop AI Labs</td>\n",
       "      <td>...</td>\n",
       "      <td>NaN</td>\n",
       "      <td>NaN</td>\n",
       "      <td>NaN</td>\n",
       "      <td>NaN</td>\n",
       "      <td>NaN</td>\n",
       "      <td>NaN</td>\n",
       "      <td>NaN</td>\n",
       "      <td>NaN</td>\n",
       "      <td>NaN</td>\n",
       "      <td>NaN</td>\n",
       "    </tr>\n",
       "    <tr>\n",
       "      <th>2</th>\n",
       "      <td>rec020xb3hcLqlI4e</td>\n",
       "      <td>2022-01-05T20:22:37.000Z</td>\n",
       "      <td>https://www.yapp.us/</td>\n",
       "      <td>TechNYC</td>\n",
       "      <td>usr9BPdDIhuQuzTkj</td>\n",
       "      <td>atownsend@cornell.edu</td>\n",
       "      <td>Anthony Townsend</td>\n",
       "      <td>Failed</td>\n",
       "      <td>movile apps\\n</td>\n",
       "      <td>Yapp</td>\n",
       "      <td>...</td>\n",
       "      <td>NaN</td>\n",
       "      <td>NaN</td>\n",
       "      <td>NaN</td>\n",
       "      <td>NaN</td>\n",
       "      <td>NaN</td>\n",
       "      <td>NaN</td>\n",
       "      <td>NaN</td>\n",
       "      <td>NaN</td>\n",
       "      <td>NaN</td>\n",
       "      <td>NaN</td>\n",
       "    </tr>\n",
       "    <tr>\n",
       "      <th>3</th>\n",
       "      <td>rec0C1X6J53tsmZHo</td>\n",
       "      <td>2021-10-26T16:28:52.000Z</td>\n",
       "      <td>https://navigine.com</td>\n",
       "      <td>NaN</td>\n",
       "      <td>usrzlz6zDGzjGmaEg</td>\n",
       "      <td>mfd64@cornell.edu</td>\n",
       "      <td>Max Dumas</td>\n",
       "      <td>Passed</td>\n",
       "      <td>Indoor navigation and way-finding systems\\n</td>\n",
       "      <td>Navigine</td>\n",
       "      <td>...</td>\n",
       "      <td>NaN</td>\n",
       "      <td>NaN</td>\n",
       "      <td>NaN</td>\n",
       "      <td>NaN</td>\n",
       "      <td>NaN</td>\n",
       "      <td>NaN</td>\n",
       "      <td>NaN</td>\n",
       "      <td>NaN</td>\n",
       "      <td>NaN</td>\n",
       "      <td>NaN</td>\n",
       "    </tr>\n",
       "    <tr>\n",
       "      <th>4</th>\n",
       "      <td>rec0CxUiuuPRFVKNw</td>\n",
       "      <td>2022-01-05T20:22:37.000Z</td>\n",
       "      <td>https://horizon-ventures.net/</td>\n",
       "      <td>TechNYC</td>\n",
       "      <td>usr9BPdDIhuQuzTkj</td>\n",
       "      <td>atownsend@cornell.edu</td>\n",
       "      <td>Anthony Townsend</td>\n",
       "      <td>Failed</td>\n",
       "      <td>NaN</td>\n",
       "      <td>Horizon Ventures</td>\n",
       "      <td>...</td>\n",
       "      <td>NaN</td>\n",
       "      <td>NaN</td>\n",
       "      <td>NaN</td>\n",
       "      <td>NaN</td>\n",
       "      <td>NaN</td>\n",
       "      <td>NaN</td>\n",
       "      <td>NaN</td>\n",
       "      <td>NaN</td>\n",
       "      <td>NaN</td>\n",
       "      <td>NaN</td>\n",
       "    </tr>\n",
       "  </tbody>\n",
       "</table>\n",
       "<p>5 rows × 37 columns</p>\n",
       "</div>"
      ],
      "text/plain": [
       "                  id               createdTime  \\\n",
       "0  rec00MDWnik2I0nA8  2022-01-05T20:22:37.000Z   \n",
       "1  rec019MVAabtvqZ29  2022-01-05T20:22:37.000Z   \n",
       "2  rec020xb3hcLqlI4e  2022-01-05T20:22:37.000Z   \n",
       "3  rec0C1X6J53tsmZHo  2021-10-26T16:28:52.000Z   \n",
       "4  rec0CxUiuuPRFVKNw  2022-01-05T20:22:37.000Z   \n",
       "\n",
       "                       fields_Web fields_Original Source    fields_Owner_id  \\\n",
       "0          https://softsmile.com/                TechNYC  usr9BPdDIhuQuzTkj   \n",
       "1           https://www.loop.ai/                 TechNYC  usr9BPdDIhuQuzTkj   \n",
       "2            https://www.yapp.us/                TechNYC  usr9BPdDIhuQuzTkj   \n",
       "3            https://navigine.com                    NaN  usrzlz6zDGzjGmaEg   \n",
       "4  https://horizon-ventures.net/                 TechNYC  usr9BPdDIhuQuzTkj   \n",
       "\n",
       "      fields_Owner_email fields_Owner_name fields_Urban Tech Screening  \\\n",
       "0  atownsend@cornell.edu  Anthony Townsend                      Failed   \n",
       "1  atownsend@cornell.edu  Anthony Townsend                      Failed   \n",
       "2  atownsend@cornell.edu  Anthony Townsend                      Failed   \n",
       "3      mfd64@cornell.edu         Max Dumas                      Passed   \n",
       "4  atownsend@cornell.edu  Anthony Townsend                      Failed   \n",
       "\n",
       "                       fields_Sniff Test Notes    fields_Company  ...  \\\n",
       "0                            dental software\\n         SoftSmile  ...   \n",
       "1                  looks like AI consultants\\n      Loop AI Labs  ...   \n",
       "2                                movile apps\\n              Yapp  ...   \n",
       "3  Indoor navigation and way-finding systems\\n          Navigine  ...   \n",
       "4                                          NaN  Horizon Ventures  ...   \n",
       "\n",
       "   fields_Contact Name fields_Position  fields_Survey Response  \\\n",
       "0                  NaN             NaN                     NaN   \n",
       "1                  NaN             NaN                     NaN   \n",
       "2                  NaN             NaN                     NaN   \n",
       "3                  NaN             NaN                     NaN   \n",
       "4                  NaN             NaN                     NaN   \n",
       "\n",
       "  fields_Year Acquired or Dissolved  fields_Valuation at Acquisition  \\\n",
       "0                               NaN                              NaN   \n",
       "1                               NaN                              NaN   \n",
       "2                               NaN                              NaN   \n",
       "3                               NaN                              NaN   \n",
       "4                               NaN                              NaN   \n",
       "\n",
       "  fields_Revenue/Budget fields_Form fields_Keywords  \\\n",
       "0                   NaN         NaN             NaN   \n",
       "1                   NaN         NaN             NaN   \n",
       "2                   NaN         NaN             NaN   \n",
       "3                   NaN         NaN             NaN   \n",
       "4                   NaN         NaN             NaN   \n",
       "\n",
       "   fields_Pre-Publish Review fields_Social Media  \n",
       "0                        NaN                 NaN  \n",
       "1                        NaN                 NaN  \n",
       "2                        NaN                 NaN  \n",
       "3                        NaN                 NaN  \n",
       "4                        NaN                 NaN  \n",
       "\n",
       "[5 rows x 37 columns]"
      ]
     },
     "execution_count": 16,
     "metadata": {},
     "output_type": "execute_result"
    }
   ],
   "source": [
    "df = pd.json_normalize(all_data, sep='_')\n",
    "df.head()"
   ]
  },
  {
   "cell_type": "code",
   "execution_count": 17,
   "metadata": {},
   "outputs": [
    {
     "data": {
      "text/plain": [
       "Index(['id', 'createdTime', 'fields_Web', 'fields_Original Source',\n",
       "       'fields_Owner_id', 'fields_Owner_email', 'fields_Owner_name',\n",
       "       'fields_Urban Tech Screening', 'fields_Sniff Test Notes',\n",
       "       'fields_Company', 'fields_Total Investment',\n",
       "       'fields_Number of Employees backup', 'fields_Number of Employees',\n",
       "       'fields_Sub-category (linked)', 'fields_Latitude',\n",
       "       'fields_Business Address', 'fields_Category (linked)',\n",
       "       'fields_Employees', 'fields_Year Founded', 'fields_Location',\n",
       "       'fields_Contact Email', 'fields_Longitude',\n",
       "       'fields_categorization notes', 'fields_Category', 'fields_Survey Sent',\n",
       "       'fields_Sub-category', 'fields_Metadata Sources + Notes',\n",
       "       'fields_Contact Name', 'fields_Position', 'fields_Survey Response',\n",
       "       'fields_Year Acquired or Dissolved', 'fields_Valuation at Acquisition',\n",
       "       'fields_Revenue/Budget', 'fields_Form', 'fields_Keywords',\n",
       "       'fields_Pre-Publish Review', 'fields_Social Media'],\n",
       "      dtype='object')"
      ]
     },
     "execution_count": 17,
     "metadata": {},
     "output_type": "execute_result"
    }
   ],
   "source": [
    "df.columns"
   ]
  },
  {
   "cell_type": "code",
   "execution_count": 18,
   "metadata": {},
   "outputs": [],
   "source": [
    "df_passed = df[df['fields_Urban Tech Screening'] == 'Passed']"
   ]
  },
  {
   "cell_type": "code",
   "execution_count": 19,
   "metadata": {},
   "outputs": [],
   "source": [
    "def parse_cat(x):\n",
    "    if type(x) is not list:\n",
    "        return ''\n",
    "    st = ''.join(str(e) for e in x)\n",
    "    return st"
   ]
  },
  {
   "cell_type": "code",
   "execution_count": 20,
   "metadata": {},
   "outputs": [
    {
     "name": "stderr",
     "output_type": "stream",
     "text": [
      "<ipython-input-20-9cbccc890947>:1: SettingWithCopyWarning: \n",
      "A value is trying to be set on a copy of a slice from a DataFrame.\n",
      "Try using .loc[row_indexer,col_indexer] = value instead\n",
      "\n",
      "See the caveats in the documentation: https://pandas.pydata.org/pandas-docs/stable/user_guide/indexing.html#returning-a-view-versus-a-copy\n",
      "  df_passed['fields_Category'] = df_passed['fields_Category'].apply(lambda x: parse_cat(x))\n"
     ]
    }
   ],
   "source": [
    "df_passed['fields_Category'] = df_passed['fields_Category'].apply(lambda x: parse_cat(x))"
   ]
  },
  {
   "cell_type": "code",
   "execution_count": 21,
   "metadata": {},
   "outputs": [],
   "source": [
    "#df_passed['fields_Category']"
   ]
  },
  {
   "cell_type": "code",
   "execution_count": 22,
   "metadata": {},
   "outputs": [
    {
     "name": "stderr",
     "output_type": "stream",
     "text": [
      "<ipython-input-22-c8788080a5f8>:1: SettingWithCopyWarning: \n",
      "A value is trying to be set on a copy of a slice from a DataFrame.\n",
      "Try using .loc[row_indexer,col_indexer] = value instead\n",
      "\n",
      "See the caveats in the documentation: https://pandas.pydata.org/pandas-docs/stable/user_guide/indexing.html#returning-a-view-versus-a-copy\n",
      "  df_passed['fields_Sub-category'] = df_passed['fields_Sub-category'].apply(lambda x: parse_cat(x))\n"
     ]
    }
   ],
   "source": [
    "df_passed['fields_Sub-category'] = df_passed['fields_Sub-category'].apply(lambda x: parse_cat(x))"
   ]
  },
  {
   "cell_type": "code",
   "execution_count": 23,
   "metadata": {},
   "outputs": [
    {
     "data": {
      "text/plain": [
       "Innovation Systems                   34\n",
       "Civic Systems                        29\n",
       "Energy Systems                       25\n",
       "Mobility Systems                     23\n",
       "Building Systems                     22\n",
       "Food Systems                         19\n",
       "Labor Systems                        17\n",
       "Information Systems                  17\n",
       "Construction Systems                 13\n",
       "Housing Systems                      11\n",
       "Health Systems                        9\n",
       "Waste Systems                         7\n",
       "Logistics Systems                     6\n",
       "Public Safety Systems                 5\n",
       "Education Systems                     5\n",
       "Health SystemsLogistics Systems       1\n",
       "Natural Systems                       1\n",
       "Mobility SystemsFood Systems          1\n",
       "Health SystemsBuilding Systems        1\n",
       "Mobility SystemsLogistics Systems     1\n",
       "Food SystemsLogistics Systems         1\n",
       "Logistics SystemsMobility Systems     1\n",
       "Name: fields_Category, dtype: int64"
      ]
     },
     "execution_count": 23,
     "metadata": {},
     "output_type": "execute_result"
    }
   ],
   "source": [
    "df_passed['fields_Category'].value_counts()"
   ]
  },
  {
   "cell_type": "code",
   "execution_count": 24,
   "metadata": {},
   "outputs": [],
   "source": [
    "#df_passed['fields_Sub-category'].value_counts()"
   ]
  },
  {
   "cell_type": "code",
   "execution_count": 25,
   "metadata": {},
   "outputs": [
    {
     "data": {
      "text/plain": [
       "3                 335 Madison Ave, New York, NY 10017, US\n",
       "7       121 Avenue of the Americas, 6th Floor, New Yor...\n",
       "14                 1250 Broadway FL 17 New York, NY 10001\n",
       "17                       36 Cooper Sq, New York, NY 10003\n",
       "24                462 Seventh Avenue, New York, NY, 10018\n",
       "                              ...                        \n",
       "1183                     230 East 73 Street NY, NY, 10021\n",
       "1186    25 Broadway, c/o TFA 12th Floor, New York, NY ...\n",
       "1188                    1115 Broadway, New York, NY 10010\n",
       "1191           510 5th Ave, 3rd Floor, New York, NY 10036\n",
       "1199    1177 Avenue of the Americas, 5th Floor • New Y...\n",
       "Name: fields_Business Address, Length: 249, dtype: object"
      ]
     },
     "execution_count": 25,
     "metadata": {},
     "output_type": "execute_result"
    }
   ],
   "source": [
    "df_passed['fields_Business Address']"
   ]
  },
  {
   "cell_type": "code",
   "execution_count": 26,
   "metadata": {},
   "outputs": [],
   "source": [
    "# def get_coordinates(address):\n",
    "#     if address != address:\n",
    "#         return ''\n",
    "#     elif 'comment' in address:\n",
    "#         return ''\n",
    "#     elif '#' in address:\n",
    "#         address = address.replace(\"#\", \"\")\n",
    "#     address = address.replace(' ', '+')\n",
    "#     response = requests.get('https://maps.googleapis.com/maps/api/geocode/json?address={0}&key={1}'.format(address,google_api_key))\n",
    "#     resp_json_payload = response.json()\n",
    "#     return dict(resp_json_payload['results'][0]['geometry']['location'])"
   ]
  },
  {
   "cell_type": "code",
   "execution_count": 27,
   "metadata": {},
   "outputs": [],
   "source": [
    "# DO NOT NEED TO RUN THIS AGAIN\n",
    "# df_passed['Coords'] = df_passed['fields_Business Address'].apply(lambda x: get_coordinates(x))"
   ]
  },
  {
   "cell_type": "code",
   "execution_count": 28,
   "metadata": {},
   "outputs": [],
   "source": [
    "# df_passed['Coords']"
   ]
  },
  {
   "cell_type": "code",
   "execution_count": 29,
   "metadata": {},
   "outputs": [],
   "source": [
    "# df_passed['fields_Business Address']"
   ]
  },
  {
   "cell_type": "code",
   "execution_count": 30,
   "metadata": {},
   "outputs": [],
   "source": [
    "# df_passed['Latitude'] = df_passed['Coords'].apply(lambda x: None if x == '' else x['lat'])\n",
    "# df_passed['Longitude'] = df_passed['Coords'].apply(lambda x: None if x == '' else x['lng'])"
   ]
  },
  {
   "cell_type": "code",
   "execution_count": 31,
   "metadata": {},
   "outputs": [],
   "source": [
    "#df_lat_long = df_passed[['Latitude', 'Longitude', 'fields_Company']]"
   ]
  },
  {
   "cell_type": "code",
   "execution_count": 32,
   "metadata": {},
   "outputs": [
    {
     "data": {
      "text/plain": [
       "(178, 5)"
      ]
     },
     "execution_count": 32,
     "metadata": {},
     "output_type": "execute_result"
    }
   ],
   "source": [
    "# Read in NYC shapefile and check shape\n",
    "nyc = gpd.read_file('modzcta_shp/geo_export_682e39f4-a884-431b-91b2-5927fe09ccd4.shp')\n",
    "nyc.shape"
   ]
  },
  {
   "cell_type": "code",
   "execution_count": 33,
   "metadata": {},
   "outputs": [],
   "source": [
    "geometry = [Point(xy) for xy in zip(df_passed['fields_Longitude'], df_passed['fields_Latitude'])]\n",
    "geo_df_passed = gpd.GeoDataFrame(df_passed, crs=nyc.crs, geometry=geometry)"
   ]
  },
  {
   "cell_type": "code",
   "execution_count": 34,
   "metadata": {},
   "outputs": [
    {
     "data": {
      "text/plain": [
       "3       POINT (-73.97814 40.75356)\n",
       "7       POINT (-74.00527 40.72410)\n",
       "14      POINT (-73.98788 40.74769)\n",
       "17      POINT (-73.99159 40.72833)\n",
       "24      POINT (-73.99040 40.75202)\n",
       "                   ...            \n",
       "1183    POINT (-73.95870 40.76959)\n",
       "1186    POINT (-74.01389 40.70555)\n",
       "1188    POINT (-73.98930 40.74289)\n",
       "1191    POINT (-73.98085 40.75410)\n",
       "1199    POINT (-73.98287 40.75728)\n",
       "Name: geometry, Length: 249, dtype: geometry"
      ]
     },
     "execution_count": 34,
     "metadata": {},
     "output_type": "execute_result"
    }
   ],
   "source": [
    "geo_df_passed['geometry']"
   ]
  },
  {
   "cell_type": "code",
   "execution_count": 35,
   "metadata": {},
   "outputs": [],
   "source": [
    "# # Spatial join \n",
    "# nyc_join = gpd.sjoin(geo_df_passed, nyc, how='inner', predicate='intersects')"
   ]
  },
  {
   "cell_type": "code",
   "execution_count": 36,
   "metadata": {},
   "outputs": [
    {
     "data": {
      "text/plain": [
       "3           Mobility Systems\n",
       "7              Civic Systems\n",
       "14         Education Systems\n",
       "17          Building Systems\n",
       "24          Mobility Systems\n",
       "                ...         \n",
       "1183           Waste Systems\n",
       "1186       Education Systems\n",
       "1188    Construction Systems\n",
       "1191        Building Systems\n",
       "1199           Labor Systems\n",
       "Name: fields_Category, Length: 249, dtype: object"
      ]
     },
     "execution_count": 36,
     "metadata": {},
     "output_type": "execute_result"
    }
   ],
   "source": [
    "geo_df_passed['fields_Category']"
   ]
  },
  {
   "cell_type": "code",
   "execution_count": 37,
   "metadata": {},
   "outputs": [
    {
     "data": {
      "image/png": "[encoded data removed]",
      "text/plain": [
       "<Figure size 1440x1008 with 1 Axes>"
      ]
     },
     "metadata": {
      "needs_background": "light"
     },
     "output_type": "display_data"
    }
   ],
   "source": [
    "# plot the polygon\n",
    "base = nyc.plot(color='gray', alpha=0.4, figsize=(20,14))\n",
    "\n",
    "# plot the marker\n",
    "#geo_df_passed['geometry'].plot(ax=base, marker='o', alpha=0.7, markersize=7)\n",
    "geo_df_passed.plot(ax=base, marker='o', alpha=0.5, markersize=13, column='fields_Category', cmap='rainbow')\n",
    "\n",
    "#legend=True,\n",
    "#legend_kwds={'loc': 'upper left'}\n",
    "\n",
    "plt.title('Urban Tech Organizations in NYC')\n",
    "\n",
    "base.set_xlim(-74.28, -73.68)\n",
    "base.set_ylim(40.48, 40.92)\n",
    "\n",
    "base.axes.xaxis.set_visible(False)\n",
    "base.axes.yaxis.set_visible(False)"
   ]
  },
  {
   "cell_type": "code",
   "execution_count": 38,
   "metadata": {},
   "outputs": [],
   "source": [
    "# Write Lat/Long to Airtable\n",
    "# DO NOT RUN THIS AGAIN\n",
    "# for i in range(df_passed.shape[0]):\n",
    "#     if pd.isnull(df_passed.iloc[i]['Latitude']) == False:\n",
    "#         i_d = df_passed.iloc[i]['id']\n",
    "#         fields = {\"Latitude\": df_passed.iloc[i]['Latitude'], \"Longitude\": df_passed.iloc[i]['Longitude']}\n",
    "#         table.update(i_d, fields)"
   ]
  },
  {
   "cell_type": "markdown",
   "metadata": {},
   "source": [
    "### PLOTS"
   ]
  },
  {
   "cell_type": "code",
   "execution_count": null,
   "metadata": {},
   "outputs": [],
   "source": [
    "df_passed.columns"
   ]
  },
  {
   "cell_type": "code",
   "execution_count": null,
   "metadata": {},
   "outputs": [],
   "source": [
    "category_counts = df_passed['fields_Category'].value_counts()"
   ]
  },
  {
   "cell_type": "code",
   "execution_count": null,
   "metadata": {},
   "outputs": [],
   "source": [
    "category_counts"
   ]
  },
  {
   "cell_type": "code",
   "execution_count": null,
   "metadata": {},
   "outputs": [],
   "source": [
    "fig, ax = plt.subplots(figsize=(15,10))\n",
    "sns.barplot(y=category_counts.index, x=category_counts)\n",
    "plt.title('Enterprises by Category')"
   ]
  },
  {
   "cell_type": "code",
   "execution_count": null,
   "metadata": {},
   "outputs": [],
   "source": [
    "category_counts_agg = category_counts.nlargest(5)\n",
    "category_counts_agg['Everything Else'] = category_counts.sum() - category_counts_agg.sum()"
   ]
  },
  {
   "cell_type": "code",
   "execution_count": null,
   "metadata": {},
   "outputs": [],
   "source": [
    "fig = plt.plot(figsize=(15,10))\n",
    "plt.pie(category_counts_agg, labels=category_counts_agg.index, radius=1.8, \n",
    "        colors=['lightcoral','sandybrown','bisque','gold', 'khaki', 'silver'])\n",
    "my_circle=plt.Circle( (0,0), 1.2, color='white')\n",
    "p=plt.gcf()\n",
    "p.gca().add_artist(my_circle)\n",
    "#plt.title('The Top 5 Clusters')"
   ]
  },
  {
   "cell_type": "code",
   "execution_count": null,
   "metadata": {},
   "outputs": [],
   "source": [
    "df_passed_sub_cat = df_passed[['fields_Company', 'fields_Category', 'fields_Sub-category']]"
   ]
  },
  {
   "cell_type": "code",
   "execution_count": null,
   "metadata": {},
   "outputs": [],
   "source": [
    "grouped = df_passed_sub_cat.groupby(by=['fields_Category', 'fields_Sub-category'], as_index=False).count()"
   ]
  },
  {
   "cell_type": "code",
   "execution_count": null,
   "metadata": {},
   "outputs": [],
   "source": [
    "grouped"
   ]
  },
  {
   "cell_type": "code",
   "execution_count": null,
   "metadata": {},
   "outputs": [],
   "source": [
    "fig, ax = plt.subplots(figsize=(15,10))\n",
    "sns.barplot(y=grouped['fields_Category'], x=grouped['fields_Company'], hue=grouped['fields_Sub-category'])\n",
    "plt.legend([],[], frameon=False)\n",
    "\n",
    "# ref: https://stackoverflow.com/questions/61102266/stacked-bars-with-hue-in-seaborn-and-pandas"
   ]
  },
  {
   "cell_type": "code",
   "execution_count": null,
   "metadata": {},
   "outputs": [],
   "source": [
    "df_passed['fields_Year Founded']= df_passed['fields_Year Founded'].astype(str).map(lambda x: x[:4])\n",
    "\n",
    "df_passed['fields_Year Founded'].head()"
   ]
  },
  {
   "cell_type": "code",
   "execution_count": null,
   "metadata": {},
   "outputs": [],
   "source": [
    "#df_passed['fields_Year Founded'] = df_passed['fields_Year Founded']\n",
    "pd.set_option('display.max_columns', None)\n",
    "df_passed.sample(7)"
   ]
  },
  {
   "cell_type": "code",
   "execution_count": null,
   "metadata": {},
   "outputs": [],
   "source": [
    "### Ecosystem Overview Tab\n",
    "employee_counts = df_passed['fields_Employees'].value_counts()\n",
    "year_founded_counts = df_passed['fields_Year Founded'].value_counts()\n",
    "investment_counts = df_passed['fields_Total Investment'].value_counts()"
   ]
  },
  {
   "cell_type": "code",
   "execution_count": null,
   "metadata": {},
   "outputs": [],
   "source": [
    "year_founded_counts"
   ]
  },
  {
   "cell_type": "code",
   "execution_count": null,
   "metadata": {},
   "outputs": [],
   "source": [
    "fig = plt.plot(figsize=(15,10))\n",
    "plt.pie(employee_counts, labels=employee_counts.index, radius=1.8, \n",
    "        colors=['lightcoral','sandybrown','bisque','gold', 'khaki', 'silver', 'brown'])\n",
    "my_circle=plt.Circle( (0,0), 1.2, color='white')\n",
    "p=plt.gcf()\n",
    "p.gca().add_artist(my_circle)\n",
    "#plt.title('Employee Ranges in NYCs Tech Ecosystem' )"
   ]
  },
  {
   "cell_type": "code",
   "execution_count": null,
   "metadata": {},
   "outputs": [],
   "source": [
    "df_passed_employees = df_passed[['fields_Company', 'fields_Employees']]\n",
    "\n",
    "grouped_emp = df_passed_employees.groupby(by=['fields_Employees'], as_index=False).count()\n",
    "grouped_emp.rename(columns={'fields_Employees':'Employee Range', 'fields_Company': 'Number of Enterprises'})"
   ]
  },
  {
   "cell_type": "code",
   "execution_count": null,
   "metadata": {},
   "outputs": [],
   "source": [
    "fig, ax = plt.subplots(figsize=(15,10))\n",
    "sns.barplot(y=year_founded_counts, x=year_founded_counts.index)\n",
    "ax.set_xticklabels(ax.get_xticklabels(), rotation=40, ha=\"right\")\n",
    "#plt.tight_layout()\n",
    "plt.title('Enterprise Formation Year')"
   ]
  },
  {
   "cell_type": "code",
   "execution_count": null,
   "metadata": {},
   "outputs": [],
   "source": [
    "df_passed_year = df_passed[['fields_Company', 'fields_Year Founded']]\n",
    "\n",
    "grouped_year = df_passed_year.groupby(by=['fields_Year Founded'], as_index=False).count()\n",
    "grouped_year.rename(columns={'fields_Year Founded':'Year Founded', 'fields_Company': 'Number of Enterprises'}).sort_values(by=['Year Founded'], ascending=False)\n",
    "\n"
   ]
  },
  {
   "cell_type": "code",
   "execution_count": null,
   "metadata": {},
   "outputs": [],
   "source": [
    "fig, ax = plt.subplots(figsize=(55,10))\n",
    "p = sns.barplot(y=investment_counts, x=investment_counts.index)\n",
    "ax.set_xticklabels(ax.get_xticklabels(), rotation=40, ha=\"right\", fontsize=10)\n",
    "#plt.tight_layout()\n",
    "p.set_xlabel(\"Total Investment\", fontsize = 40)\n",
    "p.set_ylabel(\"Number of Enterprises\", fontsize = 40)\n",
    "p.set_title(\"Total Investment in Enterprises\", fontsize = 60)\n"
   ]
  },
  {
   "cell_type": "code",
   "execution_count": null,
   "metadata": {},
   "outputs": [],
   "source": [
    "from decimal import Decimal\n",
    "\n",
    "df_passed_investment = df_passed[['fields_Company', 'fields_Total Investment']]\n",
    "\n",
    "grouped_investment = df_passed_investment.groupby(by=['fields_Total Investment'], as_index=False).count()\n",
    "grouped_investment = grouped_investment.rename(columns={'fields_Total Investment':'Total Investment', 'fields_Company': 'Number of Enterprises'})\n",
    "grouped_investment['Total Investment'] = grouped_investment['Total Investment'].astype(float)\n",
    "\n",
    "grouped_investment\n",
    "\n"
   ]
  },
  {
   "cell_type": "code",
   "execution_count": null,
   "metadata": {},
   "outputs": [],
   "source": []
  }
 ],
 "metadata": {
  "kernelspec": {
   "display_name": "Python 3",
   "language": "python",
   "name": "python3"
  },
  "language_info": {
   "codemirror_mode": {
    "name": "ipython",
    "version": 3
   },
   "file_extension": ".py",
   "mimetype": "text/x-python",
   "name": "python",
   "nbconvert_exporter": "python",
   "pygments_lexer": "ipython3",
   "version": "3.8.8"
  }
 },
 "nbformat": 4,
 "nbformat_minor": 5
}
